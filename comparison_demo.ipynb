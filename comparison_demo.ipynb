{
 "cells": [
  {
   "cell_type": "code",
   "execution_count": null,
   "metadata": {},
   "outputs": [],
   "source": [
    "import pandas\n",
    "from astropy.table import Table\n",
    "from astropy.coordinates import SkyCoord, match_coordinates_sky\n",
    "from astropy import units as u\n",
    "from astropy.nddata import CCDData\n",
    "from pathlib import Path\n",
    "from glowing_waffles.differential_photometry import *\n",
    "from astrowidgets import ImageWidget, __version__\n",
    "from glowing_waffles.photometry import *\n",
    "import numpy as np\n",
    "from comparison_functions import *\n",
    "import astrowidgets\n",
    "from seeing_profile_functions import *\n",
    "from ipywidgets import Output\n"
   ]
  },
  {
   "cell_type": "code",
   "execution_count": null,
   "metadata": {},
   "outputs": [],
   "source": [
    "print(astrowidgets.__version__)"
   ]
  },
  {
   "cell_type": "code",
   "execution_count": null,
   "metadata": {},
   "outputs": [],
   "source": [
    "directory_with_images = '.'\n",
    "#This could be any image from roughly the middle of the sequence.\n",
    "sample_image_for_finding_stars = 'https://zenodo.org/record/3356833/files/kelt-16-b-S001-R001-C084-r.fit.bz2?download=1'\n",
    "object_of_interest = 'kelt-16b'"
   ]
  },
  {
   "cell_type": "code",
   "execution_count": null,
   "metadata": {},
   "outputs": [],
   "source": [
    "df, RD, ra, dec, RD['coords'] = read_file('gaia_stars_1571495728.radec')"
   ]
  },
  {
   "cell_type": "code",
   "execution_count": null,
   "metadata": {},
   "outputs": [],
   "source": [
    "ccd, ccdx, ccdy, vsx, ra, dec, vsx['coords'], vsx_names = set_up('kelt-16b', directory_with_images, sample_image_for_finding_stars)"
   ]
  },
  {
   "cell_type": "code",
   "execution_count": null,
   "metadata": {
    "scrolled": true
   },
   "outputs": [],
   "source": [
    "apass, v_angle, RD_angle = match(ccd, RD, vsx)"
   ]
  },
  {
   "cell_type": "code",
   "execution_count": null,
   "metadata": {},
   "outputs": [],
   "source": [
    "Cmag = 11.380999999999998"
   ]
  },
  {
   "cell_type": "code",
   "execution_count": null,
   "metadata": {},
   "outputs": [],
   "source": [
    "apass_good_coord, good_stars = mag_scale(Cmag, apass, v_angle, RD_angle)"
   ]
  },
  {
   "cell_type": "code",
   "execution_count": null,
   "metadata": {},
   "outputs": [],
   "source": [
    "ent = in_field(apass_good_coord, ccd, ccdx, ccdy, apass, good_stars)"
   ]
  },
  {
   "cell_type": "code",
   "execution_count": null,
   "metadata": {},
   "outputs": [],
   "source": [
    "iw = ImageWidget()\n",
    "out = Output()\n",
    "bind_map = iw._viewer.get_bindmap()\n",
    "gvc = iw._viewer.get_canvas()\n",
    "bind_map.map_event(None, ('shift',), 'ms_left', 'cursor')\n",
    "gvc.add_callback('cursor-down', wrap(iw, out))"
   ]
  },
  {
   "cell_type": "code",
   "execution_count": null,
   "metadata": {},
   "outputs": [],
   "source": [
    "# make_markers needs a local file for now...\n",
    "ccd.write('image_file.fits', overwrite=True)\n",
    "make_markers(iw, directory_with_images, 'image_file.fits', RD, vsx, ent, 'kelt-16b')"
   ]
  },
  {
   "cell_type": "code",
   "execution_count": null,
   "metadata": {},
   "outputs": [],
   "source": [
    "iw"
   ]
  }
 ],
 "metadata": {
  "kernelspec": {
   "display_name": "Python 3",
   "language": "python",
   "name": "python3"
  },
  "language_info": {
   "codemirror_mode": {
    "name": "ipython",
    "version": 3
   },
   "file_extension": ".py",
   "mimetype": "text/x-python",
   "name": "python",
   "nbconvert_exporter": "python",
   "pygments_lexer": "ipython3",
   "version": "3.7.4"
  }
 },
 "nbformat": 4,
 "nbformat_minor": 4
}
